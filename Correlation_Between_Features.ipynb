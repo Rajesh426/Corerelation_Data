{
 "cells": [
  {
   "cell_type": "code",
   "execution_count": 1,
   "metadata": {},
   "outputs": [],
   "source": [
    "import os\n",
    "import pandas as pd\n"
   ]
  },
  {
   "cell_type": "code",
   "execution_count": 2,
   "metadata": {},
   "outputs": [
    {
     "name": "stdout",
     "output_type": "stream",
     "text": [
      "              Open    High     Low   Close   Volume  OpenInt\n",
      "Date                                                        \n",
      "1962-01-02  0.6277  0.6362  0.6201  0.6201  2575579        0\n",
      "1962-01-03  0.6201  0.6201  0.6122  0.6201  1764749        0\n",
      "1962-01-04  0.6201  0.6201  0.6037  0.6122  2194010        0\n",
      "1962-01-05  0.6122  0.6122  0.5798  0.5957  3255244        0\n",
      "1962-01-08  0.5957  0.5957  0.5716  0.5957  3696430        0\n"
     ]
    }
   ],
   "source": [
    "df_ge = pd.read_csv( \"us.ge.txt\", index_col=0)\n",
    "print(df_ge.head())"
   ]
  },
  {
   "cell_type": "code",
   "execution_count": 4,
   "metadata": {},
   "outputs": [],
   "source": [
    "corr_matrix = df_ge.corr()"
   ]
  },
  {
   "cell_type": "code",
   "execution_count": 5,
   "metadata": {},
   "outputs": [
    {
     "name": "stdout",
     "output_type": "stream",
     "text": [
      "Close      1.000000\n",
      "High       0.999901\n",
      "Low        0.999882\n",
      "Open       0.999792\n",
      "Volume     0.321045\n",
      "OpenInt         NaN\n",
      "Name: Close, dtype: float64\n"
     ]
    }
   ],
   "source": [
    "print(corr_matrix[\"Close\"].sort_values(ascending=False))"
   ]
  },
  {
   "cell_type": "code",
   "execution_count": null,
   "metadata": {},
   "outputs": [],
   "source": []
  }
 ],
 "metadata": {
  "kernelspec": {
   "display_name": "Python 3",
   "language": "python",
   "name": "python3"
  },
  "language_info": {
   "codemirror_mode": {
    "name": "ipython",
    "version": 3
   },
   "file_extension": ".py",
   "mimetype": "text/x-python",
   "name": "python",
   "nbconvert_exporter": "python",
   "pygments_lexer": "ipython3",
   "version": "3.5.3rc1"
  }
 },
 "nbformat": 4,
 "nbformat_minor": 2
}
